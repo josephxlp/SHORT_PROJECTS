{
  "nbformat": 4,
  "nbformat_minor": 0,
  "metadata": {
    "colab": {
      "provenance": [],
      "authorship_tag": "ABX9TyMEL4fQDaBG3m3T7KofTWfU",
      "include_colab_link": true
    },
    "kernelspec": {
      "name": "python3",
      "display_name": "Python 3"
    },
    "language_info": {
      "name": "python"
    }
  },
  "cells": [
    {
      "cell_type": "markdown",
      "metadata": {
        "id": "view-in-github",
        "colab_type": "text"
      },
      "source": [
        "<a href=\"https://colab.research.google.com/github/josephxlp/SHORT_PROJECTS/blob/main/CropHealthTAB.ipynb\" target=\"_parent\"><img src=\"https://colab.research.google.com/assets/colab-badge.svg\" alt=\"Open In Colab\"/></a>"
      ]
    },
    {
      "cell_type": "code",
      "execution_count": 6,
      "metadata": {
        "id": "ZPT7yMB83YX_",
        "colab": {
          "base_uri": "https://localhost:8080/"
        },
        "outputId": "0e96d22b-d1fa-42e1-b31b-ce07d092cac6"
      },
      "outputs": [
        {
          "output_type": "stream",
          "name": "stdout",
          "text": [
            "Drive already mounted at /content/drive; to attempt to forcibly remount, call drive.mount(\"/content/drive\", force_remount=True).\n"
          ]
        }
      ],
      "source": [
        "from google.colab import drive\n",
        "drive.mount('/content/drive')"
      ]
    },
    {
      "cell_type": "code",
      "source": [
        "!pip install rasterio rasterstats -q"
      ],
      "metadata": {
        "id": "jC767Yys3xFx"
      },
      "execution_count": 5,
      "outputs": []
    },
    {
      "cell_type": "code",
      "source": [
        "# Import necessary libraries\n",
        "import os\n",
        "import numpy as np\n",
        "import pandas as pd\n",
        "import rasterio\n",
        "import geopandas as gpd\n",
        "import matplotlib.pyplot as plt\n",
        "import seaborn as sns\n",
        "from sklearn.model_selection import train_test_split\n",
        "from sklearn.preprocessing import StandardScaler\n",
        "from sklearn.metrics import confusion_matrix, accuracy_score, precision_score, recall_score, f1_score, roc_auc_score\n",
        "import tensorflow as tf\n",
        "from tensorflow.keras.models import Sequential\n",
        "from tensorflow.keras.layers import Dense, Dropout"
      ],
      "metadata": {
        "id": "-9RXvkhT3oVq"
      },
      "execution_count": 9,
      "outputs": []
    },
    {
      "cell_type": "code",
      "source": [
        "datapath= \"/content/drive/MyDrive/PROJx/data/GeoML/crop_data/\"\n",
        "os.chdir(datapath)"
      ],
      "metadata": {
        "id": "lzh1b9hW3vlf"
      },
      "execution_count": 10,
      "outputs": []
    },
    {
      "cell_type": "code",
      "source": [
        "# Open the raster files using context managers\n",
        "with rasterio.open('data/dem.tif') as dem, \\\n",
        "     rasterio.open('data/ortho.tif') as ortho, \\\n",
        "     rasterio.open('data/dtm.tif') as dtm:\n",
        "\n",
        "    # Read the data into arrays\n",
        "    dem_arr = dem.read(1)\n",
        "    ortho_arr = ortho.read([1, 2, 3, 4, 5, 6])  # R, G, B, NIR, RedEdge, Thermal\n",
        "    dtm_arr = dtm.read(1)\n"
      ],
      "metadata": {
        "id": "K8UG20Lv4Ecy"
      },
      "execution_count": 12,
      "outputs": []
    },
    {
      "cell_type": "code",
      "source": [
        "plots_1 = gpd.read_file('data/plots_1.shp')\n",
        "plots_2 = gpd.read_file('data/plots_2.shp')"
      ],
      "metadata": {
        "id": "hhd7mrea4Tiw"
      },
      "execution_count": 13,
      "outputs": []
    },
    {
      "cell_type": "code",
      "source": [
        "elevation = np.where(dem_arr <= 0, np.nan, dem_arr)\n",
        "masked_thermal = np.where(ortho_arr[5] <= 0, np.nan, ortho_arr[5] / 100 - 273.15)  # Convert to Celsius"
      ],
      "metadata": {
        "id": "f8fjG1Lr4cTJ"
      },
      "execution_count": 14,
      "outputs": []
    },
    {
      "cell_type": "code",
      "source": [
        "# Generate NDVI (Normalized Difference Vegetation Index) with error handling\n",
        "# NDVI = (NIR - Red) / (NIR + Red)\n",
        "with np.errstate(divide='ignore', invalid='ignore'):\n",
        "    ndvi = (ortho_arr[3] - ortho_arr[0]) / (ortho_arr[3] + ortho_arr[0])\n",
        "    ndvi = np.where(np.isnan(ndvi), 0, ndvi)"
      ],
      "metadata": {
        "id": "sz94xuuD4evC"
      },
      "execution_count": 17,
      "outputs": []
    },
    {
      "cell_type": "code",
      "source": [
        "def compute_zonal_stats(plots, data, affine):\n",
        "    import rasterstats as rs\n",
        "    plot_zs = rs.zonal_stats(plots, data, affine=affine, stats=\"mean\", nodata=np.nan, geojson_out=True)\n",
        "    return gpd.GeoDataFrame.from_features(plot_zs)"
      ],
      "metadata": {
        "id": "i4bkCbLuUNj1"
      },
      "execution_count": 18,
      "outputs": []
    },
    {
      "cell_type": "code",
      "source": [
        "# Calculate mean NDVI, thermal, elevation, and DTM values for each plot\n",
        "plots_1['NDVI_mean'] = compute_zonal_stats(plots_1, ndvi, dem.transform)['mean']\n",
        "plots_1['thermal_mean'] = compute_zonal_stats(plots_1, masked_thermal, dem.transform)['mean']\n",
        "plots_1['elevation_mean'] = compute_zonal_stats(plots_1, elevation, dem.transform)['mean']\n",
        "plots_1['dtm_mean'] = compute_zonal_stats(plots_1, dtm_arr, dem.transform)['mean']"
      ],
      "metadata": {
        "id": "x1v-4i5B4iX7"
      },
      "execution_count": 19,
      "outputs": []
    },
    {
      "cell_type": "code",
      "source": [
        "plots_1.head()"
      ],
      "metadata": {
        "colab": {
          "base_uri": "https://localhost:8080/",
          "height": 206
        },
        "id": "IrfNXnvl4nFN",
        "outputId": "2eaf3557-dcea-4950-9b41-e9f2ba7b0993"
      },
      "execution_count": 20,
      "outputs": [
        {
          "output_type": "execute_result",
          "data": {
            "text/plain": [
              "  NAME          LAYER               MAP_NAME  \\\n",
              "0    2  Coverage/Quad  User Created Features   \n",
              "1    3  Coverage/Quad  User Created Features   \n",
              "2    4  Coverage/Quad  User Created Features   \n",
              "3    5  Coverage/Quad  User Created Features   \n",
              "4    6  Coverage/Quad  User Created Features   \n",
              "\n",
              "                                            geometry  NDVI_mean  thermal_mean  \\\n",
              "0  POLYGON Z ((289583.708 5130289.226 0, 289588.7...   0.438559     28.059842   \n",
              "1  POLYGON Z ((289588.705 5130289.052 0, 289593.7...   0.445282     26.597221   \n",
              "2  POLYGON Z ((289593.702 5130288.877 0, 289598.6...   0.552864     27.543570   \n",
              "3  POLYGON Z ((289598.699 5130288.703 0, 289603.6...   0.530295     24.495659   \n",
              "4  POLYGON Z ((289603.696 5130288.528 0, 289608.6...   0.536660     23.950518   \n",
              "\n",
              "   elevation_mean    dtm_mean  \n",
              "0      363.717766  362.185250  \n",
              "1      363.811965  362.165315  \n",
              "2      364.005800  362.121171  \n",
              "3      365.031981  362.062528  \n",
              "4      365.145092  361.989222  "
            ],
            "text/html": [
              "\n",
              "  <div id=\"df-ad662fc3-7635-478c-ba65-168995246e3d\" class=\"colab-df-container\">\n",
              "    <div>\n",
              "<style scoped>\n",
              "    .dataframe tbody tr th:only-of-type {\n",
              "        vertical-align: middle;\n",
              "    }\n",
              "\n",
              "    .dataframe tbody tr th {\n",
              "        vertical-align: top;\n",
              "    }\n",
              "\n",
              "    .dataframe thead th {\n",
              "        text-align: right;\n",
              "    }\n",
              "</style>\n",
              "<table border=\"1\" class=\"dataframe\">\n",
              "  <thead>\n",
              "    <tr style=\"text-align: right;\">\n",
              "      <th></th>\n",
              "      <th>NAME</th>\n",
              "      <th>LAYER</th>\n",
              "      <th>MAP_NAME</th>\n",
              "      <th>geometry</th>\n",
              "      <th>NDVI_mean</th>\n",
              "      <th>thermal_mean</th>\n",
              "      <th>elevation_mean</th>\n",
              "      <th>dtm_mean</th>\n",
              "    </tr>\n",
              "  </thead>\n",
              "  <tbody>\n",
              "    <tr>\n",
              "      <th>0</th>\n",
              "      <td>2</td>\n",
              "      <td>Coverage/Quad</td>\n",
              "      <td>User Created Features</td>\n",
              "      <td>POLYGON Z ((289583.708 5130289.226 0, 289588.7...</td>\n",
              "      <td>0.438559</td>\n",
              "      <td>28.059842</td>\n",
              "      <td>363.717766</td>\n",
              "      <td>362.185250</td>\n",
              "    </tr>\n",
              "    <tr>\n",
              "      <th>1</th>\n",
              "      <td>3</td>\n",
              "      <td>Coverage/Quad</td>\n",
              "      <td>User Created Features</td>\n",
              "      <td>POLYGON Z ((289588.705 5130289.052 0, 289593.7...</td>\n",
              "      <td>0.445282</td>\n",
              "      <td>26.597221</td>\n",
              "      <td>363.811965</td>\n",
              "      <td>362.165315</td>\n",
              "    </tr>\n",
              "    <tr>\n",
              "      <th>2</th>\n",
              "      <td>4</td>\n",
              "      <td>Coverage/Quad</td>\n",
              "      <td>User Created Features</td>\n",
              "      <td>POLYGON Z ((289593.702 5130288.877 0, 289598.6...</td>\n",
              "      <td>0.552864</td>\n",
              "      <td>27.543570</td>\n",
              "      <td>364.005800</td>\n",
              "      <td>362.121171</td>\n",
              "    </tr>\n",
              "    <tr>\n",
              "      <th>3</th>\n",
              "      <td>5</td>\n",
              "      <td>Coverage/Quad</td>\n",
              "      <td>User Created Features</td>\n",
              "      <td>POLYGON Z ((289598.699 5130288.703 0, 289603.6...</td>\n",
              "      <td>0.530295</td>\n",
              "      <td>24.495659</td>\n",
              "      <td>365.031981</td>\n",
              "      <td>362.062528</td>\n",
              "    </tr>\n",
              "    <tr>\n",
              "      <th>4</th>\n",
              "      <td>6</td>\n",
              "      <td>Coverage/Quad</td>\n",
              "      <td>User Created Features</td>\n",
              "      <td>POLYGON Z ((289603.696 5130288.528 0, 289608.6...</td>\n",
              "      <td>0.536660</td>\n",
              "      <td>23.950518</td>\n",
              "      <td>365.145092</td>\n",
              "      <td>361.989222</td>\n",
              "    </tr>\n",
              "  </tbody>\n",
              "</table>\n",
              "</div>\n",
              "    <div class=\"colab-df-buttons\">\n",
              "\n",
              "  <div class=\"colab-df-container\">\n",
              "    <button class=\"colab-df-convert\" onclick=\"convertToInteractive('df-ad662fc3-7635-478c-ba65-168995246e3d')\"\n",
              "            title=\"Convert this dataframe to an interactive table.\"\n",
              "            style=\"display:none;\">\n",
              "\n",
              "  <svg xmlns=\"http://www.w3.org/2000/svg\" height=\"24px\" viewBox=\"0 -960 960 960\">\n",
              "    <path d=\"M120-120v-720h720v720H120Zm60-500h600v-160H180v160Zm220 220h160v-160H400v160Zm0 220h160v-160H400v160ZM180-400h160v-160H180v160Zm440 0h160v-160H620v160ZM180-180h160v-160H180v160Zm440 0h160v-160H620v160Z\"/>\n",
              "  </svg>\n",
              "    </button>\n",
              "\n",
              "  <style>\n",
              "    .colab-df-container {\n",
              "      display:flex;\n",
              "      gap: 12px;\n",
              "    }\n",
              "\n",
              "    .colab-df-convert {\n",
              "      background-color: #E8F0FE;\n",
              "      border: none;\n",
              "      border-radius: 50%;\n",
              "      cursor: pointer;\n",
              "      display: none;\n",
              "      fill: #1967D2;\n",
              "      height: 32px;\n",
              "      padding: 0 0 0 0;\n",
              "      width: 32px;\n",
              "    }\n",
              "\n",
              "    .colab-df-convert:hover {\n",
              "      background-color: #E2EBFA;\n",
              "      box-shadow: 0px 1px 2px rgba(60, 64, 67, 0.3), 0px 1px 3px 1px rgba(60, 64, 67, 0.15);\n",
              "      fill: #174EA6;\n",
              "    }\n",
              "\n",
              "    .colab-df-buttons div {\n",
              "      margin-bottom: 4px;\n",
              "    }\n",
              "\n",
              "    [theme=dark] .colab-df-convert {\n",
              "      background-color: #3B4455;\n",
              "      fill: #D2E3FC;\n",
              "    }\n",
              "\n",
              "    [theme=dark] .colab-df-convert:hover {\n",
              "      background-color: #434B5C;\n",
              "      box-shadow: 0px 1px 3px 1px rgba(0, 0, 0, 0.15);\n",
              "      filter: drop-shadow(0px 1px 2px rgba(0, 0, 0, 0.3));\n",
              "      fill: #FFFFFF;\n",
              "    }\n",
              "  </style>\n",
              "\n",
              "    <script>\n",
              "      const buttonEl =\n",
              "        document.querySelector('#df-ad662fc3-7635-478c-ba65-168995246e3d button.colab-df-convert');\n",
              "      buttonEl.style.display =\n",
              "        google.colab.kernel.accessAllowed ? 'block' : 'none';\n",
              "\n",
              "      async function convertToInteractive(key) {\n",
              "        const element = document.querySelector('#df-ad662fc3-7635-478c-ba65-168995246e3d');\n",
              "        const dataTable =\n",
              "          await google.colab.kernel.invokeFunction('convertToInteractive',\n",
              "                                                    [key], {});\n",
              "        if (!dataTable) return;\n",
              "\n",
              "        const docLinkHtml = 'Like what you see? Visit the ' +\n",
              "          '<a target=\"_blank\" href=https://colab.research.google.com/notebooks/data_table.ipynb>data table notebook</a>'\n",
              "          + ' to learn more about interactive tables.';\n",
              "        element.innerHTML = '';\n",
              "        dataTable['output_type'] = 'display_data';\n",
              "        await google.colab.output.renderOutput(dataTable, element);\n",
              "        const docLink = document.createElement('div');\n",
              "        docLink.innerHTML = docLinkHtml;\n",
              "        element.appendChild(docLink);\n",
              "      }\n",
              "    </script>\n",
              "  </div>\n",
              "\n",
              "\n",
              "<div id=\"df-3a9dfc1f-47aa-4467-9a28-97cf35d9b7a7\">\n",
              "  <button class=\"colab-df-quickchart\" onclick=\"quickchart('df-3a9dfc1f-47aa-4467-9a28-97cf35d9b7a7')\"\n",
              "            title=\"Suggest charts\"\n",
              "            style=\"display:none;\">\n",
              "\n",
              "<svg xmlns=\"http://www.w3.org/2000/svg\" height=\"24px\"viewBox=\"0 0 24 24\"\n",
              "     width=\"24px\">\n",
              "    <g>\n",
              "        <path d=\"M19 3H5c-1.1 0-2 .9-2 2v14c0 1.1.9 2 2 2h14c1.1 0 2-.9 2-2V5c0-1.1-.9-2-2-2zM9 17H7v-7h2v7zm4 0h-2V7h2v10zm4 0h-2v-4h2v4z\"/>\n",
              "    </g>\n",
              "</svg>\n",
              "  </button>\n",
              "\n",
              "<style>\n",
              "  .colab-df-quickchart {\n",
              "      --bg-color: #E8F0FE;\n",
              "      --fill-color: #1967D2;\n",
              "      --hover-bg-color: #E2EBFA;\n",
              "      --hover-fill-color: #174EA6;\n",
              "      --disabled-fill-color: #AAA;\n",
              "      --disabled-bg-color: #DDD;\n",
              "  }\n",
              "\n",
              "  [theme=dark] .colab-df-quickchart {\n",
              "      --bg-color: #3B4455;\n",
              "      --fill-color: #D2E3FC;\n",
              "      --hover-bg-color: #434B5C;\n",
              "      --hover-fill-color: #FFFFFF;\n",
              "      --disabled-bg-color: #3B4455;\n",
              "      --disabled-fill-color: #666;\n",
              "  }\n",
              "\n",
              "  .colab-df-quickchart {\n",
              "    background-color: var(--bg-color);\n",
              "    border: none;\n",
              "    border-radius: 50%;\n",
              "    cursor: pointer;\n",
              "    display: none;\n",
              "    fill: var(--fill-color);\n",
              "    height: 32px;\n",
              "    padding: 0;\n",
              "    width: 32px;\n",
              "  }\n",
              "\n",
              "  .colab-df-quickchart:hover {\n",
              "    background-color: var(--hover-bg-color);\n",
              "    box-shadow: 0 1px 2px rgba(60, 64, 67, 0.3), 0 1px 3px 1px rgba(60, 64, 67, 0.15);\n",
              "    fill: var(--button-hover-fill-color);\n",
              "  }\n",
              "\n",
              "  .colab-df-quickchart-complete:disabled,\n",
              "  .colab-df-quickchart-complete:disabled:hover {\n",
              "    background-color: var(--disabled-bg-color);\n",
              "    fill: var(--disabled-fill-color);\n",
              "    box-shadow: none;\n",
              "  }\n",
              "\n",
              "  .colab-df-spinner {\n",
              "    border: 2px solid var(--fill-color);\n",
              "    border-color: transparent;\n",
              "    border-bottom-color: var(--fill-color);\n",
              "    animation:\n",
              "      spin 1s steps(1) infinite;\n",
              "  }\n",
              "\n",
              "  @keyframes spin {\n",
              "    0% {\n",
              "      border-color: transparent;\n",
              "      border-bottom-color: var(--fill-color);\n",
              "      border-left-color: var(--fill-color);\n",
              "    }\n",
              "    20% {\n",
              "      border-color: transparent;\n",
              "      border-left-color: var(--fill-color);\n",
              "      border-top-color: var(--fill-color);\n",
              "    }\n",
              "    30% {\n",
              "      border-color: transparent;\n",
              "      border-left-color: var(--fill-color);\n",
              "      border-top-color: var(--fill-color);\n",
              "      border-right-color: var(--fill-color);\n",
              "    }\n",
              "    40% {\n",
              "      border-color: transparent;\n",
              "      border-right-color: var(--fill-color);\n",
              "      border-top-color: var(--fill-color);\n",
              "    }\n",
              "    60% {\n",
              "      border-color: transparent;\n",
              "      border-right-color: var(--fill-color);\n",
              "    }\n",
              "    80% {\n",
              "      border-color: transparent;\n",
              "      border-right-color: var(--fill-color);\n",
              "      border-bottom-color: var(--fill-color);\n",
              "    }\n",
              "    90% {\n",
              "      border-color: transparent;\n",
              "      border-bottom-color: var(--fill-color);\n",
              "    }\n",
              "  }\n",
              "</style>\n",
              "\n",
              "  <script>\n",
              "    async function quickchart(key) {\n",
              "      const quickchartButtonEl =\n",
              "        document.querySelector('#' + key + ' button');\n",
              "      quickchartButtonEl.disabled = true;  // To prevent multiple clicks.\n",
              "      quickchartButtonEl.classList.add('colab-df-spinner');\n",
              "      try {\n",
              "        const charts = await google.colab.kernel.invokeFunction(\n",
              "            'suggestCharts', [key], {});\n",
              "      } catch (error) {\n",
              "        console.error('Error during call to suggestCharts:', error);\n",
              "      }\n",
              "      quickchartButtonEl.classList.remove('colab-df-spinner');\n",
              "      quickchartButtonEl.classList.add('colab-df-quickchart-complete');\n",
              "    }\n",
              "    (() => {\n",
              "      let quickchartButtonEl =\n",
              "        document.querySelector('#df-3a9dfc1f-47aa-4467-9a28-97cf35d9b7a7 button');\n",
              "      quickchartButtonEl.style.display =\n",
              "        google.colab.kernel.accessAllowed ? 'block' : 'none';\n",
              "    })();\n",
              "  </script>\n",
              "</div>\n",
              "\n",
              "    </div>\n",
              "  </div>\n"
            ],
            "application/vnd.google.colaboratory.intrinsic+json": {
              "type": "dataframe",
              "variable_name": "plots_1",
              "summary": "{\n  \"name\": \"plots_1\",\n  \"rows\": 132,\n  \"fields\": [\n    {\n      \"column\": \"NAME\",\n      \"properties\": {\n        \"dtype\": \"string\",\n        \"num_unique_values\": 132,\n        \"samples\": [\n          \"68\",\n          \"99\",\n          \"23\"\n        ],\n        \"semantic_type\": \"\",\n        \"description\": \"\"\n      }\n    },\n    {\n      \"column\": \"LAYER\",\n      \"properties\": {\n        \"dtype\": \"category\",\n        \"num_unique_values\": 1,\n        \"samples\": [\n          \"Coverage/Quad\"\n        ],\n        \"semantic_type\": \"\",\n        \"description\": \"\"\n      }\n    },\n    {\n      \"column\": \"MAP_NAME\",\n      \"properties\": {\n        \"dtype\": \"category\",\n        \"num_unique_values\": 1,\n        \"samples\": [\n          \"User Created Features\"\n        ],\n        \"semantic_type\": \"\",\n        \"description\": \"\"\n      }\n    },\n    {\n      \"column\": \"geometry\",\n      \"properties\": {\n        \"dtype\": \"geometry\",\n        \"num_unique_values\": 132,\n        \"samples\": [\n          \"POLYGON Z ((289586.96027602494 5130239.082003545 0, 289591.95723016 5130238.907506062 0, 289591.608235193 5130228.913597791 0, 289586.61128105794 5130229.088095275 0, 289586.96027602494 5130239.082003545 0))\"\n        ],\n        \"semantic_type\": \"\",\n        \"description\": \"\"\n      }\n    },\n    {\n      \"column\": \"NDVI_mean\",\n      \"properties\": {\n        \"dtype\": \"number\",\n        \"std\": 0.17506086429212467,\n        \"min\": 0.40556118094102206,\n        \"max\": 0.915145305059987,\n        \"num_unique_values\": 132,\n        \"samples\": [\n          0.40556118094102206\n        ],\n        \"semantic_type\": \"\",\n        \"description\": \"\"\n      }\n    },\n    {\n      \"column\": \"thermal_mean\",\n      \"properties\": {\n        \"dtype\": \"number\",\n        \"std\": 3.9166443001021207,\n        \"min\": 17.35194331983808,\n        \"max\": 30.473645575320898,\n        \"num_unique_values\": 132,\n        \"samples\": [\n          29.467827555155356\n        ],\n        \"semantic_type\": \"\",\n        \"description\": \"\"\n      }\n    },\n    {\n      \"column\": \"elevation_mean\",\n      \"properties\": {\n        \"dtype\": \"number\",\n        \"std\": 1.5214212267584666,\n        \"min\": 358.3476131501914,\n        \"max\": 365.32124774977495,\n        \"num_unique_values\": 132,\n        \"samples\": [\n          362.7727937865826\n        ],\n        \"semantic_type\": \"\",\n        \"description\": \"\"\n      }\n    },\n    {\n      \"column\": \"dtm_mean\",\n      \"properties\": {\n        \"dtype\": \"number\",\n        \"std\": 1.178386979771843,\n        \"min\": 357.6854030623733,\n        \"max\": 362.1852497749775,\n        \"num_unique_values\": 132,\n        \"samples\": [\n          360.6128433138226\n        ],\n        \"semantic_type\": \"\",\n        \"description\": \"\"\n      }\n    }\n  ]\n}"
            }
          },
          "metadata": {},
          "execution_count": 20
        }
      ]
    },
    {
      "cell_type": "code",
      "source": [
        "# Data preparation\n",
        "# Drop NaN values and prepare feature matrix for model training\n",
        "plots_1 = plots_1.dropna()\n",
        "features = plots_1[['NDVI_mean', 'thermal_mean', 'elevation_mean', 'dtm_mean']]"
      ],
      "metadata": {
        "id": "uDdz06dO4w2G"
      },
      "execution_count": 21,
      "outputs": []
    },
    {
      "cell_type": "code",
      "source": [
        "# Create a synthetic target variable focusing on healthy crops\n",
        "# Define healthy crops based on NDVI values between 0.4 and 0.8\n",
        "healthy_mask = (plots_1['NDVI_mean'] >= 0.4) & (plots_1['NDVI_mean'] <= 0.8)\n",
        "plots_1['synthetic_target'] = np.where(healthy_mask, 1, 0)  # Healthy crops = 1, Others = 0"
      ],
      "metadata": {
        "id": "UApDHgNP41AW"
      },
      "execution_count": 22,
      "outputs": []
    },
    {
      "cell_type": "code",
      "source": [
        "# Check data balance\n",
        "# Print class distribution to check for imbalance\n",
        "class_counts = plots_1['synthetic_target'].value_counts()\n",
        "print(f\"Class distribution:\\n{class_counts}\")\n",
        "\n",
        "# Handle data imbalance by undersampling the majority class\n",
        "from sklearn.utils import resample\n",
        "\n",
        "# Separate majority and minority classes\n",
        "# This variable indicates whether a crop is healthy (1) or not (0).\n",
        "minority_class = plots_1[plots_1['synthetic_target'] == 1]\n",
        "majority_class = plots_1[plots_1['synthetic_target'] == 0]\n",
        "\n",
        "# Resample majority class to match the minority class size\n",
        "majority_class_downsampled = resample(majority_class,\n",
        "                                      replace=False,\n",
        "                                      n_samples=len(minority_class),\n",
        "                                      random_state=42)\n",
        "balanced_data = pd.concat([minority_class, majority_class_downsampled])\n",
        "\n",
        "# Reassign features and target from the balanced data\n",
        "features = balanced_data[['NDVI_mean', 'thermal_mean', 'elevation_mean', 'dtm_mean']]\n",
        "target = balanced_data['synthetic_target']"
      ],
      "metadata": {
        "colab": {
          "base_uri": "https://localhost:8080/"
        },
        "id": "5fEG5_fo45DG",
        "outputId": "c44adde8-1fd6-4634-d466-734132710cf0"
      },
      "execution_count": 23,
      "outputs": [
        {
          "output_type": "stream",
          "name": "stdout",
          "text": [
            "Class distribution:\n",
            "synthetic_target\n",
            "0    78\n",
            "1    54\n",
            "Name: count, dtype: int64\n"
          ]
        }
      ]
    },
    {
      "cell_type": "code",
      "source": [
        "# Split data into training and testing sets\n",
        "X_train, X_test, y_train, y_test = train_test_split(features, target, test_size=0.2, random_state=42)"
      ],
      "metadata": {
        "id": "yiJlw89X47ta"
      },
      "execution_count": 24,
      "outputs": []
    },
    {
      "cell_type": "code",
      "source": [
        "# Standardize data\n",
        "# Standardize features to have zero mean and unit variance\n",
        "scaler = StandardScaler()\n",
        "X_train = scaler.fit_transform(X_train)\n",
        "X_test = scaler.transform(X_test)"
      ],
      "metadata": {
        "id": "H1cufUu24-1f"
      },
      "execution_count": 25,
      "outputs": []
    },
    {
      "cell_type": "code",
      "source": [
        "from tensorflow.keras.models import Sequential\n",
        "from tensorflow.keras.layers import Dense, Dropout, BatchNormalization\n",
        "from tensorflow.keras.callbacks import EarlyStopping, ReduceLROnPlateau\n",
        "\n",
        "# Define the model\n",
        "model = Sequential([\n",
        "    Dense(128, activation='relu', input_shape=(X_train.shape[1],)),\n",
        "    BatchNormalization(),\n",
        "    Dropout(0.3),\n",
        "    Dense(64, activation='relu'),\n",
        "    BatchNormalization(),\n",
        "    Dropout(0.3),\n",
        "    Dense(1, activation='sigmoid')  # Sigmoid activation function for binary classification\n",
        "])\n",
        "\n",
        "# Compile the model\n",
        "model.compile(optimizer='adam', loss='binary_crossentropy', metrics=['accuracy'])\n",
        "\n",
        "# Define callbacks for early stopping and learning rate reduction\n",
        "early_stopping = EarlyStopping(monitor='val_loss', patience=10, restore_best_weights=True)\n",
        "reduce_lr = ReduceLROnPlateau(monitor='val_loss', factor=0.2, patience=5, min_lr=0.0001)\n",
        "\n",
        "# Train the model with the callbacks\n",
        "history = model.fit(\n",
        "    X_train, y_train,\n",
        "    epochs=100,\n",
        "    batch_size=32,\n",
        "    validation_split=0.2,\n",
        "    callbacks=[early_stopping, reduce_lr]\n",
        ")\n"
      ],
      "metadata": {
        "id": "iVATM8AQ5Eji"
      },
      "execution_count": null,
      "outputs": []
    },
    {
      "cell_type": "code",
      "source": [
        "# Evaluate the model on test data\n",
        "loss, accuracy = model.evaluate(X_test, y_test)\n",
        "print(f\"Accuracy on test data: {accuracy}\")\n",
        "\n",
        "# Make predictions\n",
        "# Predict the class labels for the test set\n",
        "predictions = (model.predict(X_test) > 0.5).astype(\"int32\")"
      ],
      "metadata": {
        "colab": {
          "base_uri": "https://localhost:8080/"
        },
        "id": "L_KWuaph5Gcp",
        "outputId": "bd0723f3-3df1-4c0b-caf1-42a3cb2ab60f"
      },
      "execution_count": 28,
      "outputs": [
        {
          "output_type": "stream",
          "name": "stdout",
          "text": [
            "\u001b[1m1/1\u001b[0m \u001b[32m━━━━━━━━━━━━━━━━━━━━\u001b[0m\u001b[37m\u001b[0m \u001b[1m0s\u001b[0m 110ms/step - accuracy: 0.9545 - loss: 0.1599\n",
            "Accuracy on test data: 0.9545454382896423\n",
            "\u001b[1m1/1\u001b[0m \u001b[32m━━━━━━━━━━━━━━━━━━━━\u001b[0m\u001b[37m\u001b[0m \u001b[1m0s\u001b[0m 166ms/step\n"
          ]
        }
      ]
    },
    {
      "cell_type": "code",
      "source": [
        "# Calculate evaluation metrics:\n",
        "# Compute accuracy, precision, recall, F1 score, and ROC AUC score\n",
        "accuracy_score_val = accuracy_score(y_test, predictions)\n",
        "precision_score_val = precision_score(y_test, predictions)\n",
        "recall_score_val = recall_score(y_test, predictions)\n",
        "f1_score_val = f1_score(y_test, predictions)\n",
        "roc_auc_score_val = roc_auc_score(y_test, model.predict(X_test))\n",
        "\n",
        "print(f\"Accuracy Score: {accuracy_score_val}\")\n",
        "print(f\"Precision Score: {precision_score_val}\")\n",
        "print(f\"Recall Score: {recall_score_val}\")\n",
        "print(f\"F1 Score: {f1_score_val}\")\n",
        "print(f\"ROC AUC Score: {roc_auc_score_val}\")"
      ],
      "metadata": {
        "colab": {
          "base_uri": "https://localhost:8080/"
        },
        "id": "t9xPGnDK5LYC",
        "outputId": "07777630-029d-4984-eaf3-4fd36d4d2a9c"
      },
      "execution_count": 29,
      "outputs": [
        {
          "output_type": "stream",
          "name": "stdout",
          "text": [
            "\u001b[1m1/1\u001b[0m \u001b[32m━━━━━━━━━━━━━━━━━━━━\u001b[0m\u001b[37m\u001b[0m \u001b[1m0s\u001b[0m 51ms/step\n",
            "Accuracy Score: 0.9545454545454546\n",
            "Precision Score: 1.0\n",
            "Recall Score: 0.9\n",
            "F1 Score: 0.9473684210526315\n",
            "ROC AUC Score: 1.0\n"
          ]
        }
      ]
    },
    {
      "cell_type": "code",
      "source": [
        "# Plot the confusion matrix to visualize model performance\n",
        "# Compute the confusion matrix\n",
        "conf_matrix = confusion_matrix(y_test, predictions)\n",
        "\n",
        "# Plot the confusion matrix using Seaborn's heatmap\n",
        "plt.figure(figsize=(8, 6))\n",
        "sns.heatmap(conf_matrix, annot=True, fmt='d', cmap='Blues',\n",
        "            xticklabels=['Predicted Negative', 'Predicted Positive'],\n",
        "            yticklabels=['Actual Negative', 'Actual Positive'])\n",
        "plt.xlabel('Predicted')\n",
        "plt.ylabel('Actual')\n",
        "plt.title('Confusion Matrix')\n",
        "plt.show()"
      ],
      "metadata": {
        "colab": {
          "base_uri": "https://localhost:8080/",
          "height": 564
        },
        "id": "5R1KCon15NHO",
        "outputId": "013d2ddf-895c-414d-d26f-a383fbf9e252"
      },
      "execution_count": 30,
      "outputs": [
        {
          "output_type": "display_data",
          "data": {
            "text/plain": [
              "<Figure size 800x600 with 2 Axes>"
            ],
            "image/png": "[encoded data removed]"
          },
          "metadata": {}
        }
      ]
    },
    {
      "cell_type": "code",
      "source": [],
      "metadata": {
        "id": "kh-amP045PbA"
      },
      "execution_count": null,
      "outputs": []
    }
  ]
}